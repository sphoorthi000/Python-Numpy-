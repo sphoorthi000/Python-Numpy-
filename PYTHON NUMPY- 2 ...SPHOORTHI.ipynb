{
 "cells": [
  {
   "cell_type": "code",
   "execution_count": 1,
   "id": "353ef529",
   "metadata": {},
   "outputs": [
    {
     "name": "stdout",
     "output_type": "stream",
     "text": [
      "Defaulting to user installation because normal site-packages is not writeable\n",
      "Requirement already satisfied: numpy in c:\\programdata\\anaconda3\\lib\\site-packages (1.24.3)\n"
     ]
    }
   ],
   "source": [
    "!pip install numpy"
   ]
  },
  {
   "cell_type": "code",
   "execution_count": 4,
   "id": "212e070a",
   "metadata": {},
   "outputs": [],
   "source": [
    "#import numpy\n",
    "import numpy as np"
   ]
  },
  {
   "cell_type": "code",
   "execution_count": 5,
   "id": "a3f03dc3",
   "metadata": {},
   "outputs": [
    {
     "data": {
      "text/plain": [
       "5"
      ]
     },
     "execution_count": 5,
     "metadata": {},
     "output_type": "execute_result"
    }
   ],
   "source": [
    "# finding length of array\n",
    "\n",
    "arr = np.array([[12,244,3,40,22],\n",
    "                [23,56,11,78,91],\n",
    "                [57,769,1,96,81],\n",
    "                [13,42,77,21,75],\n",
    "                [81,34,24,92,62]])\n",
    "len(arr)"
   ]
  },
  {
   "cell_type": "code",
   "execution_count": 6,
   "id": "8953a434",
   "metadata": {},
   "outputs": [
    {
     "name": "stdout",
     "output_type": "stream",
     "text": [
      "(5, 5)\n"
     ]
    }
   ],
   "source": [
    "print(arr.shape)"
   ]
  },
  {
   "cell_type": "code",
   "execution_count": 9,
   "id": "266ddd20",
   "metadata": {},
   "outputs": [
    {
     "name": "stdout",
     "output_type": "stream",
     "text": [
      "40\n",
      "57\n",
      "75\n"
     ]
    }
   ],
   "source": [
    "# accessing elements form array\n",
    "\n",
    "arr = np.array([[12,244,3,40,22],\n",
    "                [23,56,11,78,91],\n",
    "                [57,769,1,96,81],\n",
    "                [13,42,77,21,75],\n",
    "                [81,34,24,92,62]])\n",
    "\n",
    "print(arr[0,3]) #3rd element in row 1\n",
    "print(arr[2,0]) #1st element in row 3\n",
    "print(arr[3,4]) #5th element in row 4"
   ]
  },
  {
   "cell_type": "code",
   "execution_count": 16,
   "id": "0e55a2b9",
   "metadata": {},
   "outputs": [
    {
     "name": "stdout",
     "output_type": "stream",
     "text": [
      "92\n"
     ]
    }
   ],
   "source": [
    "# accessing 3D array\n",
    "\n",
    "arr = np.array([[[21,32,55,90],[12,45,67,65]],  \n",
    "                [[31,56,28,57],[46,22,78,90]],\n",
    "                [[57,20,27,25],[89,22,43,47]],\n",
    "                [[23,90,92,68],[81,32,30,72]]])\n",
    "\n",
    "print(arr[3,0,2])"
   ]
  },
  {
   "cell_type": "code",
   "execution_count": 17,
   "id": "d74098a4",
   "metadata": {},
   "outputs": [
    {
     "name": "stdout",
     "output_type": "stream",
     "text": [
      "22\n"
     ]
    }
   ],
   "source": [
    "print(arr[2,1,1])"
   ]
  },
  {
   "cell_type": "code",
   "execution_count": 18,
   "id": "01ab6385",
   "metadata": {},
   "outputs": [
    {
     "name": "stdout",
     "output_type": "stream",
     "text": [
      "90\n"
     ]
    }
   ],
   "source": [
    "print(arr[1,1,3])"
   ]
  },
  {
   "cell_type": "code",
   "execution_count": 19,
   "id": "37b7eaff",
   "metadata": {},
   "outputs": [
    {
     "name": "stdout",
     "output_type": "stream",
     "text": [
      "27\n"
     ]
    }
   ],
   "source": [
    "print(arr[2,0,2])"
   ]
  },
  {
   "cell_type": "code",
   "execution_count": 28,
   "id": "1c5da138",
   "metadata": {},
   "outputs": [
    {
     "name": "stdout",
     "output_type": "stream",
     "text": [
      "[[  1   2   3   4   5   6   7   8   9  10]\n",
      " [ 11  12  13  14  15  16  17  18  19  20]\n",
      " [ 21  22  23  24  25  26  27  28  29  30]\n",
      " [ 31  32  33  34  35  36  37  38  39  40]\n",
      " [ 41  42  43  44  45  46  47  48  49  50]\n",
      " [ 51  52  53  54  55  56  57  58  59  60]\n",
      " [ 61  62  63  64  65  66  67  68  69  70]\n",
      " [ 71  72  73  74  75  76  77  78  79  80]\n",
      " [ 81  82  83  84  85  86  87  88  89  90]\n",
      " [ 91  92  93  94  95  96  97  98  99 100]\n",
      " [101 102 103 104 105 106 107 108 109 110]\n",
      " [111 112 113 114 115 116 117 118 119 120]]\n"
     ]
    }
   ],
   "source": [
    "#reshaping elements\n",
    "\n",
    "arr=np.array([1,2,3,4,5,6,7,8,9,10,11,12,13,14,15,16,17,18,19,20,21,22,23,24,25,26,27,28,29,30,31,32,33,34,35,36,37,38,39,40,41,42,43,44,45,46,47,48,49,50,51,52,53,54,55,56,57,58,59,60,61,62,63,64,65,66,67,68,69,70,71,72,73,74,75,76,77,78,79,80,81,82,83,84,85,86,87,88,89,90,91,92,93,94,95,96,97,98,99,100,101,102,103,104,105,106,107,108,109,110,111,112,113,114,115,116,117,118,119,120])\n",
    "newarr= arr.reshape(12,10)\n",
    "print(newarr)"
   ]
  },
  {
   "cell_type": "code",
   "execution_count": 33,
   "id": "15c19b79",
   "metadata": {},
   "outputs": [
    {
     "name": "stdout",
     "output_type": "stream",
     "text": [
      "[[[  1   2   3   4   5   6]\n",
      "  [  7   8   9  10  11  12]\n",
      "  [ 13  14  15  16  17  18]\n",
      "  [ 19  20  21  22  23  24]]\n",
      "\n",
      " [[ 25  26  27  28  29  30]\n",
      "  [ 31  32  33  34  35  36]\n",
      "  [ 37  38  39  40  41  42]\n",
      "  [ 43  44  45  46  47  48]]\n",
      "\n",
      " [[ 49  50  51  52  53  54]\n",
      "  [ 55  56  57  58  59  60]\n",
      "  [ 61  62  63  64  65  66]\n",
      "  [ 67  68  69  70  71  72]]\n",
      "\n",
      " [[ 73  74  75  76  77  78]\n",
      "  [ 79  80  81  82  83  84]\n",
      "  [ 85  86  87  88  89  90]\n",
      "  [ 91  92  93  94  95  96]]\n",
      "\n",
      " [[ 97  98  99 100 101 102]\n",
      "  [103 104 105 106 107 108]\n",
      "  [109 110 111 112 113 114]\n",
      "  [115 116 117 118 119 120]]]\n"
     ]
    }
   ],
   "source": [
    "arr=np.array([1,2,3,4,5,6,7,8,9,10,11,12,13,14,15,16,17,18,19,20,21,22,23,24,25,26,27,28,29,30,31,32,33,34,35,36,37,38,39,40,41,42,43,44,45,46,47,48,49,50,51,52,53,54,55,56,57,58,59,60,61,62,63,64,65,66,67,68,69,70,71,72,73,74,75,76,77,78,79,80,81,82,83,84,85,86,87,88,89,90,91,92,93,94,95,96,97,98,99,100,101,102,103,104,105,106,107,108,109,110,111,112,113,114,115,116,117,118,119,120])\n",
    "\n",
    "newarr = arr.reshape(5,4,6)\n",
    "print(newarr)"
   ]
  },
  {
   "cell_type": "code",
   "execution_count": 39,
   "id": "abd3ae97",
   "metadata": {},
   "outputs": [
    {
     "name": "stdout",
     "output_type": "stream",
     "text": [
      "[[[  1   2   3   4   5   6   7   8   9  10  11  12  13  14  15  16  17\n",
      "    18  19  20]\n",
      "  [ 21  22  23  24  25  26  27  28  29  30  31  32  33  34  35  36  37\n",
      "    38  39  40]]\n",
      "\n",
      " [[ 41  42  43  44  45  46  47  48  49  50  51  52  53  54  55  56  57\n",
      "    58  59  60]\n",
      "  [ 61  62  63  64  65  66  67  68  69  70  71  72  73  74  75  76  77\n",
      "    78  79  80]]\n",
      "\n",
      " [[ 81  82  83  84  85  86  87  88  89  90  91  92  93  94  95  96  97\n",
      "    98  99 100]\n",
      "  [101 102 103 104 105 106 107 108 109 110 111 112 113 114 115 116 117\n",
      "   118 119 120]]]\n"
     ]
    }
   ],
   "source": [
    "newarr = arr.reshape(3,2,20)\n",
    "print(newarr)"
   ]
  },
  {
   "cell_type": "code",
   "execution_count": null,
   "id": "72bfcb13",
   "metadata": {},
   "outputs": [],
   "source": []
  }
 ],
 "metadata": {
  "kernelspec": {
   "display_name": "Python 3 (ipykernel)",
   "language": "python",
   "name": "python3"
  },
  "language_info": {
   "codemirror_mode": {
    "name": "ipython",
    "version": 3
   },
   "file_extension": ".py",
   "mimetype": "text/x-python",
   "name": "python",
   "nbconvert_exporter": "python",
   "pygments_lexer": "ipython3",
   "version": "3.11.5"
  }
 },
 "nbformat": 4,
 "nbformat_minor": 5
}

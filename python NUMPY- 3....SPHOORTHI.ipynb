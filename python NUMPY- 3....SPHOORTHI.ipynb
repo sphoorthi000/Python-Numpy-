{
 "cells": [
  {
   "cell_type": "code",
   "execution_count": 1,
   "id": "a90f56ee",
   "metadata": {},
   "outputs": [],
   "source": [
    "import numpy as np"
   ]
  },
  {
   "cell_type": "markdown",
   "id": "26c888c9",
   "metadata": {},
   "source": [
    "# MATH OPERATIONS "
   ]
  },
  {
   "cell_type": "code",
   "execution_count": 4,
   "id": "38fa47cc",
   "metadata": {},
   "outputs": [],
   "source": [
    "A = np.array([43,56,89,14,78,90,16,31,57,91])\n",
    "B = np.array([72,90,1,4,89,22,13,76,-14,72])"
   ]
  },
  {
   "cell_type": "code",
   "execution_count": 6,
   "id": "544140e1",
   "metadata": {},
   "outputs": [
    {
     "name": "stdout",
     "output_type": "stream",
     "text": [
      "[115 146  90  18 167 112  29 107  43 163]\n"
     ]
    }
   ],
   "source": [
    "# Addition\n",
    "\n",
    "print(np.add(A,B))"
   ]
  },
  {
   "cell_type": "code",
   "execution_count": 7,
   "id": "49b8e20c",
   "metadata": {},
   "outputs": [
    {
     "name": "stdout",
     "output_type": "stream",
     "text": [
      "[-29 -34  88  10 -11  68   3 -45  71  19]\n"
     ]
    }
   ],
   "source": [
    "# Subtraction\n",
    "\n",
    "print(np.subtract(A,B))"
   ]
  },
  {
   "cell_type": "code",
   "execution_count": 8,
   "id": "eb3ea131",
   "metadata": {},
   "outputs": [
    {
     "name": "stdout",
     "output_type": "stream",
     "text": [
      "[3096 5040   89   56 6942 1980  208 2356 -798 6552]\n"
     ]
    }
   ],
   "source": [
    "# Multiply\n",
    "\n",
    "print(np.multiply(A,B))"
   ]
  },
  {
   "cell_type": "code",
   "execution_count": 10,
   "id": "9060d8b1",
   "metadata": {},
   "outputs": [
    {
     "name": "stdout",
     "output_type": "stream",
     "text": [
      "[ 0.59722222  0.62222222 89.          3.5         0.87640449  4.09090909\n",
      "  1.23076923  0.40789474 -4.07142857  1.26388889]\n"
     ]
    }
   ],
   "source": [
    "# Division\n",
    "\n",
    "print(np.divide(A,B))"
   ]
  },
  {
   "cell_type": "code",
   "execution_count": 11,
   "id": "a9a0b37c",
   "metadata": {},
   "outputs": [],
   "source": [
    "# Sqrt using for loop"
   ]
  },
  {
   "cell_type": "code",
   "execution_count": 13,
   "id": "70fa6674",
   "metadata": {},
   "outputs": [
    {
     "name": "stdout",
     "output_type": "stream",
     "text": [
      "8.831760866327848\n"
     ]
    }
   ],
   "source": [
    "import math\n",
    "\n",
    "arr = np.array([78,92,56,8890,71,41])\n",
    "\n",
    "sqrt = math.sqrt\n",
    "A = np.array([78])\n",
    "\n",
    "for i in A:\n",
    "    print(sqrt(A))"
   ]
  },
  {
   "cell_type": "code",
   "execution_count": 17,
   "id": "260da783",
   "metadata": {},
   "outputs": [
    {
     "name": "stdout",
     "output_type": "stream",
     "text": [
      "9.591663046625438\n"
     ]
    }
   ],
   "source": [
    "sqrt = math.sqrt\n",
    "A = np.array([92])\n",
    "\n",
    "for i in A:\n",
    "    print(sqrt(A))"
   ]
  },
  {
   "cell_type": "code",
   "execution_count": 18,
   "id": "816e9128",
   "metadata": {},
   "outputs": [
    {
     "name": "stdout",
     "output_type": "stream",
     "text": [
      "7.483314773547883\n"
     ]
    }
   ],
   "source": [
    "sqrt = math.sqrt\n",
    "A = np.array([56])\n",
    "\n",
    "for i in A:\n",
    "    print(sqrt(A))"
   ]
  },
  {
   "cell_type": "code",
   "execution_count": 19,
   "id": "73b63d14",
   "metadata": {},
   "outputs": [
    {
     "name": "stdout",
     "output_type": "stream",
     "text": [
      "94.28679653058533\n"
     ]
    }
   ],
   "source": [
    "sqrt = math.sqrt\n",
    "A = np.array([8890])\n",
    "\n",
    "for i in A:\n",
    "    print(sqrt(A))"
   ]
  },
  {
   "cell_type": "code",
   "execution_count": 20,
   "id": "569bd04b",
   "metadata": {},
   "outputs": [
    {
     "name": "stdout",
     "output_type": "stream",
     "text": [
      "8.426149773176359\n"
     ]
    }
   ],
   "source": [
    "sqrt = math.sqrt\n",
    "A = np.array([71])\n",
    "\n",
    "for i in A:\n",
    "    print(sqrt(A))"
   ]
  },
  {
   "cell_type": "code",
   "execution_count": 21,
   "id": "2c80885f",
   "metadata": {},
   "outputs": [
    {
     "name": "stdout",
     "output_type": "stream",
     "text": [
      "6.4031242374328485\n"
     ]
    }
   ],
   "source": [
    "sqrt = math.sqrt\n",
    "A = np.array([41])\n",
    "\n",
    "for i in A:\n",
    "    print(sqrt(A))"
   ]
  },
  {
   "cell_type": "markdown",
   "id": "45f2a445",
   "metadata": {},
   "source": [
    "#  Slicing method :\n"
   ]
  },
  {
   "cell_type": "code",
   "execution_count": 53,
   "id": "86043f6f",
   "metadata": {},
   "outputs": [],
   "source": [
    "arr = np.array([78,0,89,19,18,39,79,63,-3,84,-32,-89,-42,65,92])"
   ]
  },
  {
   "cell_type": "code",
   "execution_count": 24,
   "id": "faae1ede",
   "metadata": {},
   "outputs": [
    {
     "name": "stdout",
     "output_type": "stream",
     "text": [
      "[  0  89  19  18  39  79  63  -3  84 -32 -89 -42  65]\n"
     ]
    }
   ],
   "source": [
    "# positive slicing:\n",
    "\n",
    "print(arr[1:14])"
   ]
  },
  {
   "cell_type": "code",
   "execution_count": 25,
   "id": "5f27b57a",
   "metadata": {},
   "outputs": [
    {
     "name": "stdout",
     "output_type": "stream",
     "text": [
      "[39 79 63 -3]\n"
     ]
    }
   ],
   "source": [
    "print(arr[5:9])"
   ]
  },
  {
   "cell_type": "code",
   "execution_count": 27,
   "id": "ce043163",
   "metadata": {},
   "outputs": [
    {
     "name": "stdout",
     "output_type": "stream",
     "text": [
      "[ 78   0  89  19  18  39  79  63  -3  84 -32 -89 -42  65  92]\n"
     ]
    }
   ],
   "source": [
    "print(arr[:15])"
   ]
  },
  {
   "cell_type": "code",
   "execution_count": 28,
   "id": "f59d9639",
   "metadata": {},
   "outputs": [
    {
     "name": "stdout",
     "output_type": "stream",
     "text": [
      "[ 39  79  63  -3  84 -32 -89 -42  65  92]\n"
     ]
    }
   ],
   "source": [
    "print(arr[5:])"
   ]
  },
  {
   "cell_type": "code",
   "execution_count": 29,
   "id": "3fe6f534",
   "metadata": {},
   "outputs": [
    {
     "name": "stdout",
     "output_type": "stream",
     "text": [
      "[89 19 18 39]\n"
     ]
    }
   ],
   "source": [
    "# negative slicing\n",
    "\n",
    "print(arr[-13:-9])"
   ]
  },
  {
   "cell_type": "code",
   "execution_count": 32,
   "id": "970a67b4",
   "metadata": {},
   "outputs": [
    {
     "name": "stdout",
     "output_type": "stream",
     "text": [
      "[19 18 39 79]\n"
     ]
    }
   ],
   "source": [
    "print(arr[-12:-8])"
   ]
  },
  {
   "cell_type": "code",
   "execution_count": 39,
   "id": "c1aad7a7",
   "metadata": {},
   "outputs": [
    {
     "name": "stdout",
     "output_type": "stream",
     "text": [
      "[ 78   0  89  19  18  39  79  63  -3  84 -32 -89 -42  65  92]\n"
     ]
    }
   ],
   "source": [
    "print(arr[-15:])"
   ]
  },
  {
   "cell_type": "code",
   "execution_count": 37,
   "id": "85b9eddf",
   "metadata": {},
   "outputs": [
    {
     "name": "stdout",
     "output_type": "stream",
     "text": [
      "[ 78   0  89  19  18  39  79  63  -3  84 -32 -89 -42  65]\n"
     ]
    }
   ],
   "source": [
    "print(arr[:-1])"
   ]
  },
  {
   "cell_type": "code",
   "execution_count": 40,
   "id": "79bb66e7",
   "metadata": {},
   "outputs": [
    {
     "name": "stdout",
     "output_type": "stream",
     "text": [
      "[722  82  10]\n"
     ]
    }
   ],
   "source": [
    "# step slicing:\n",
    "\n",
    "arr = np.array([722,18,19,82,27,19,10,20,30,54])\n",
    "print(arr[0:7:3])"
   ]
  },
  {
   "cell_type": "code",
   "execution_count": 41,
   "id": "6df9f8f1",
   "metadata": {},
   "outputs": [
    {
     "name": "stdout",
     "output_type": "stream",
     "text": [
      "[27]\n"
     ]
    }
   ],
   "source": [
    "print(arr[4:9:5])"
   ]
  },
  {
   "cell_type": "code",
   "execution_count": 42,
   "id": "6350e5df",
   "metadata": {},
   "outputs": [
    {
     "name": "stdout",
     "output_type": "stream",
     "text": [
      "[92 81 14]\n"
     ]
    }
   ],
   "source": [
    "# return from entire elements:\n",
    "\n",
    "arr = np.array([92,94,2,69,81,15,61,81,14,72])\n",
    "print(arr[::4])"
   ]
  },
  {
   "cell_type": "markdown",
   "id": "c0036eaf",
   "metadata": {},
   "source": [
    "# Slicing method using 2D array:"
   ]
  },
  {
   "cell_type": "code",
   "execution_count": 47,
   "id": "5f8766e7",
   "metadata": {},
   "outputs": [],
   "source": [
    "A = np.array([[71,89,62,56,91],[82,19,62,17,83]])"
   ]
  },
  {
   "cell_type": "code",
   "execution_count": 48,
   "id": "b981f385",
   "metadata": {},
   "outputs": [
    {
     "name": "stdout",
     "output_type": "stream",
     "text": [
      "[62 56]\n"
     ]
    }
   ],
   "source": [
    "print(arr[0,2:4])"
   ]
  },
  {
   "cell_type": "code",
   "execution_count": 51,
   "id": "918f18b5",
   "metadata": {},
   "outputs": [
    {
     "name": "stdout",
     "output_type": "stream",
     "text": [
      "[19 62]\n"
     ]
    }
   ],
   "source": [
    "print(arr[1,-4:-2])"
   ]
  },
  {
   "cell_type": "code",
   "execution_count": 52,
   "id": "784ec8a1",
   "metadata": {},
   "outputs": [
    {
     "name": "stdout",
     "output_type": "stream",
     "text": [
      "[71 89 62]\n"
     ]
    }
   ],
   "source": [
    "print(arr[0,-5:-2])"
   ]
  }
 ],
 "metadata": {
  "kernelspec": {
   "display_name": "Python 3 (ipykernel)",
   "language": "python",
   "name": "python3"
  },
  "language_info": {
   "codemirror_mode": {
    "name": "ipython",
    "version": 3
   },
   "file_extension": ".py",
   "mimetype": "text/x-python",
   "name": "python",
   "nbconvert_exporter": "python",
   "pygments_lexer": "ipython3",
   "version": "3.11.5"
  }
 },
 "nbformat": 4,
 "nbformat_minor": 5
}
